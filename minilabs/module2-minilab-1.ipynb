{
 "cells": [
  {
   "cell_type": "markdown",
   "metadata": {},
   "source": [
    "# Introduction to Python for Data Science Mini-Lab 2 - Basic Python\n",
    "## Try these simple exercises!"
   ]
  },
  {
   "cell_type": "code",
   "execution_count": 1,
   "metadata": {},
   "outputs": [],
   "source": [
    "import numpy as np"
   ]
  },
  {
   "cell_type": "markdown",
   "metadata": {},
   "source": [
    "Let's try making functions this time! Create the function `adder` which takes in `a` and `b`. The purpose of this function is to _add_ `a` and `b`! We've started the function declaration for you, just finish the rest by replacing `...`."
   ]
  },
  {
   "cell_type": "code",
   "execution_count": 2,
   "metadata": {},
   "outputs": [],
   "source": [
    "def adder(a, b):\n",
    "    return ...  # Replace this line!\n",
    "\n",
    "adder(9, 10)  # Should be 19"
   ]
  },
  {
   "cell_type": "markdown",
   "metadata": {},
   "source": [
    "Now let's try a more complicated adder. This time, we'll take in the `list` data type that we learned in the next module and add everything in that list. Use a `while` loop! We've started this function declaration for you, just finish the rest by replace `...`."
   ]
  },
  {
   "cell_type": "code",
   "execution_count": null,
   "metadata": {},
   "outputs": [],
   "source": [
    "def list_adder(lst):\n",
    "    i = 0\n",
    "    total = 0\n",
    "    while i < len(lst):\n",
    "        ...  # Replace this line!\n",
    "        i = i + 1\n",
    "    return total\n",
    "\n",
    "list_adder([1, 2, 3, 4, 5])  # Should be 15"
   ]
  },
  {
   "cell_type": "markdown",
   "metadata": {},
   "source": [
    "Now here's a fun challenge: try to implement a new function `subtractor` that takes in `a` and `b` and `return`s `a-b`. Here's the catch though: you have to use the `adder` function that you made earlier! How would you do this? We've started the function declaration for you, judt finish the rest by replace `...`."
   ]
  },
  {
   "cell_type": "code",
   "execution_count": null,
   "metadata": {},
   "outputs": [],
   "source": [
    "def subtractor(a, b):\n",
    "    return ...  # Replace this line! Note that you must use your adder function!\n",
    "\n",
    "subtractor(9, 10)  # Should be -1"
   ]
  }
 ],
 "metadata": {
  "kernelspec": {
   "display_name": "Python 3",
   "language": "python",
   "name": "python3"
  },
  "language_info": {
   "codemirror_mode": {
    "name": "ipython",
    "version": 3
   },
   "file_extension": ".py",
   "mimetype": "text/x-python",
   "name": "python",
   "nbconvert_exporter": "python",
   "pygments_lexer": "ipython3",
   "version": "3.7.4"
  }
 },
 "nbformat": 4,
 "nbformat_minor": 2
}
