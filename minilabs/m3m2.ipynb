{
 "cells": [
  {
   "cell_type": "markdown",
   "metadata": {},
   "source": [
    "# Introduction to Python for Data Science Mini-Lab 1 - Basic Python\n",
    "## Try these simple exercises!"
   ]
  },
  {
   "cell_type": "code",
   "execution_count": 1,
   "metadata": {},
   "outputs": [],
   "source": [
    "from datascience import *\n",
    "import numpy as np"
   ]
  },
  {
   "cell_type": "markdown",
   "metadata": {},
   "source": [
    "If you remember from the last module's mini-lab, we created a table called `fruits` that contains the number of fruits that Tien, Ahmed, and Lucy has. We made that table for you, but this time we'll let you make it youself! We'll be using a simpler version of that table though that only contains the dragonfruit. Tien has 8 dragonfruits, Ahmed has 4 dragonfruits and Lucy has 5. Go ahead and recreate the `fruits` table below by replacing `...` with what we want."
   ]
  },
  {
   "cell_type": "code",
   "execution_count": 2,
   "metadata": {},
   "outputs": [
    {
     "ename": "SyntaxError",
     "evalue": "invalid syntax (<ipython-input-2-b965714b6806>, line 3)",
     "output_type": "error",
     "traceback": [
      "\u001b[0;36m  File \u001b[0;32m\"<ipython-input-2-b965714b6806>\"\u001b[0;36m, line \u001b[0;32m3\u001b[0m\n\u001b[0;31m    'dragonfruits', ...\u001b[0m\n\u001b[0m                 ^\u001b[0m\n\u001b[0;31mSyntaxError\u001b[0m\u001b[0;31m:\u001b[0m invalid syntax\n"
     ]
    }
   ],
   "source": [
    "fruits = Table().with_columns([\n",
    "                                'name', ...\n",
    "                                'dragonfruits', ...\n",
    "                              ])\n",
    "\n",
    "fruits"
   ]
  },
  {
   "cell_type": "markdown",
   "metadata": {},
   "source": [
    "Now that you know the basic syntax of making new tables, we'll let you make one more but this time with a lot less hand-holding. Replace `...` below with an expression that creates a new table with the same names as above but this time with the column `durians`, which indicates how many durians each person has. Tien has 3, Ahmed has 8, and Lucy ha 1."
   ]
  },
  {
   "cell_type": "code",
   "execution_count": 3,
   "metadata": {},
   "outputs": [
    {
     "data": {
      "text/plain": [
       "Ellipsis"
      ]
     },
     "execution_count": 3,
     "metadata": {},
     "output_type": "execute_result"
    }
   ],
   "source": [
    "more_fruits = ...\n",
    "\n",
    "more_fruits"
   ]
  },
  {
   "cell_type": "markdown",
   "metadata": {},
   "source": [
    "Oh no! Now we have two different tables that contains information that we want in one table! Replace `...` below with an expression that will `merge` the two tables for you."
   ]
  },
  {
   "cell_type": "code",
   "execution_count": null,
   "metadata": {},
   "outputs": [],
   "source": [
    "merged_tables = ..."
   ]
  }
 ],
 "metadata": {
  "kernelspec": {
   "display_name": "Python 3",
   "language": "python",
   "name": "python3"
  },
  "language_info": {
   "codemirror_mode": {
    "name": "ipython",
    "version": 3
   },
   "file_extension": ".py",
   "mimetype": "text/x-python",
   "name": "python",
   "nbconvert_exporter": "python",
   "pygments_lexer": "ipython3",
   "version": "3.7.4"
  }
 },
 "nbformat": 4,
 "nbformat_minor": 2
}
