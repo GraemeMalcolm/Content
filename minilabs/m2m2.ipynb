{
 "cells": [
  {
   "cell_type": "markdown",
   "metadata": {},
   "source": [
    "# Introduction to Python for Data Science Mini-Lab 2 - Basic Python\n",
    "## Try these simple exercises!"
   ]
  },
  {
   "cell_type": "code",
   "execution_count": 1,
   "metadata": {},
   "outputs": [],
   "source": [
    "from datascience import *"
   ]
  },
  {
   "cell_type": "markdown",
   "metadata": {},
   "source": [
    "Here we'll build a simple table. This table keeps track of how many bananas, apples, and oranges Tien, Ahmed, and Lucy has. The name of this table is `fruits`. Don't worry too much about *how* we create this table, all that matters is how we manipulate the data *inside* the table."
   ]
  },
  {
   "cell_type": "code",
   "execution_count": 2,
   "metadata": {},
   "outputs": [
    {
     "data": {
      "text/html": [
       "<table border=\"1\" class=\"dataframe\">\n",
       "    <thead>\n",
       "        <tr>\n",
       "            <th>name</th> <th>bananas</th> <th>apples</th> <th>oranges</th>\n",
       "        </tr>\n",
       "    </thead>\n",
       "    <tbody>\n",
       "        <tr>\n",
       "            <td>Tien </td> <td>9      </td> <td>1     </td> <td>6      </td>\n",
       "        </tr>\n",
       "        <tr>\n",
       "            <td>Ahmed</td> <td>3      </td> <td>2     </td> <td>1      </td>\n",
       "        </tr>\n",
       "        <tr>\n",
       "            <td>Lucy </td> <td>3      </td> <td>10    </td> <td>2      </td>\n",
       "        </tr>\n",
       "    </tbody>\n",
       "</table>"
      ],
      "text/plain": [
       "name  | bananas | apples | oranges\n",
       "Tien  | 9       | 1      | 6\n",
       "Ahmed | 3       | 2      | 1\n",
       "Lucy  | 3       | 10     | 2"
      ]
     },
     "execution_count": 2,
     "metadata": {},
     "output_type": "execute_result"
    }
   ],
   "source": [
    "fruits = Table().with_columns([\n",
    "                            'name', ['Tien', 'Ahmed', 'Lucy'],\n",
    "                            'bananas',  [9, 3, 3],\n",
    "                            'apples', [1, 2, 10],\n",
    "                            'oranges', [6, 1, 2]\n",
    "                            ])\n",
    "fruits"
   ]
  },
  {
   "cell_type": "markdown",
   "metadata": {},
   "source": [
    "In the code block below, replace `...` with an expression that will get the column names of the table."
   ]
  },
  {
   "cell_type": "code",
   "execution_count": 3,
   "metadata": {},
   "outputs": [
    {
     "data": {
      "text/plain": [
       "('name', 'bananas', 'apples', 'oranges')"
      ]
     },
     "execution_count": 3,
     "metadata": {},
     "output_type": "execute_result"
    }
   ],
   "source": [
    "column_names = fruits.labels\n",
    "column_names"
   ]
  },
  {
   "cell_type": "markdown",
   "metadata": {},
   "source": [
    "In the next code block, replace `...` with an expression that will get the number of bananas that Tien has."
   ]
  },
  {
   "cell_type": "code",
   "execution_count": 6,
   "metadata": {},
   "outputs": [
    {
     "data": {
      "text/plain": [
       "9"
      ]
     },
     "execution_count": 6,
     "metadata": {},
     "output_type": "execute_result"
    }
   ],
   "source": [
    "tiens_bananas = fruits[1][0]\n",
    "tiens_bananas"
   ]
  },
  {
   "cell_type": "markdown",
   "metadata": {},
   "source": [
    "Here's a tricky one: replace `...` with an expression that will get how many fruits Tien, Ahmed, and Lucy has altogether! If one line of code isn't enough, go ahead and add more lines of code if necessary."
   ]
  },
  {
   "cell_type": "code",
   "execution_count": 10,
   "metadata": {},
   "outputs": [
    {
     "data": {
      "text/plain": [
       "37"
      ]
     },
     "execution_count": 10,
     "metadata": {},
     "output_type": "execute_result"
    }
   ],
   "source": [
    "total_fruit = sum(fruits[1]) + sum(fruits[2]) + sum(fruits[3])\n",
    "total_fruit"
   ]
  },
  {
   "cell_type": "code",
   "execution_count": null,
   "metadata": {},
   "outputs": [],
   "source": []
  }
 ],
 "metadata": {
  "kernelspec": {
   "display_name": "Python 3",
   "language": "python",
   "name": "python3"
  },
  "language_info": {
   "codemirror_mode": {
    "name": "ipython",
    "version": 3
   },
   "file_extension": ".py",
   "mimetype": "text/x-python",
   "name": "python",
   "nbconvert_exporter": "python",
   "pygments_lexer": "ipython3",
   "version": "3.7.4"
  }
 },
 "nbformat": 4,
 "nbformat_minor": 2
}
